{
 "cells": [
  {
   "cell_type": "markdown",
   "id": "bd9a630e",
   "metadata": {},
   "source": [
    "# Regularized Ridge Regression on The Compressive Strength of Concrete Mixures of Varying Composition\n",
    "\n",
    "## DAT 402 Project 1\n",
    "### Author - __Thomas Derr__\n",
    "#### Dataset - https://www.kaggle.com/datasets/prathamtripathi/regression-with-neural-networking"
   ]
  },
  {
   "cell_type": "markdown",
   "id": "7c555949",
   "metadata": {},
   "source": [
    "## Import Needed Libraries"
   ]
  },
  {
   "cell_type": "code",
   "execution_count": 1,
   "id": "fc5381b2",
   "metadata": {},
   "outputs": [],
   "source": [
    "import pandas as pd\n",
    "import matplotlib.pyplot as plt\n",
    "import numpy as np\n",
    "from sklearn.linear_model import Ridge\n",
    "from sklearn.model_selection import train_test_split\n",
    "from sklearn.preprocessing import StandardScaler\n",
    "from sklearn.linear_model import RidgeCV\n",
    "from sklearn.metrics import mean_squared_error\n",
    "from sklearn import linear_model"
   ]
  },
  {
   "cell_type": "markdown",
   "id": "71773605",
   "metadata": {},
   "source": [
    "## Import and Clean Data\n",
    "\n",
    "### Nature of the Data\n",
    "The recorded data is comprised of the data gathered by testing the compressive strength of concrete mixures comprised of cement, slag, ash, water, super plasticizer, coarse aggregate, and fine aggregate. 425 of these 1030 measurements were made on 28 day old concrete. Each of these components were measured in kg per $m^3$ of wet mixture, and total compressibe strengt was measured in MegaPascals (MPa)"
   ]
  },
  {
   "cell_type": "code",
   "execution_count": 2,
   "id": "7246da8b",
   "metadata": {
    "scrolled": true
   },
   "outputs": [
    {
     "data": {
      "text/html": [
       "<div>\n",
       "<style scoped>\n",
       "    .dataframe tbody tr th:only-of-type {\n",
       "        vertical-align: middle;\n",
       "    }\n",
       "\n",
       "    .dataframe tbody tr th {\n",
       "        vertical-align: top;\n",
       "    }\n",
       "\n",
       "    .dataframe thead th {\n",
       "        text-align: right;\n",
       "    }\n",
       "</style>\n",
       "<table border=\"1\" class=\"dataframe\">\n",
       "  <thead>\n",
       "    <tr style=\"text-align: right;\">\n",
       "      <th></th>\n",
       "      <th>Cement (component 1)(kg in a m^3 mixture)</th>\n",
       "      <th>Blast Furnace Slag (component 2)(kg in a m^3 mixture)</th>\n",
       "      <th>Fly Ash (component 3)(kg in a m^3 mixture)</th>\n",
       "      <th>Water  (component 4)(kg in a m^3 mixture)</th>\n",
       "      <th>Superplasticizer (component 5)(kg in a m^3 mixture)</th>\n",
       "      <th>Coarse Aggregate  (component 6)(kg in a m^3 mixture)</th>\n",
       "      <th>Fine Aggregate (component 7)(kg in a m^3 mixture)</th>\n",
       "      <th>Concrete compressive strength(MPa, megapascals)</th>\n",
       "    </tr>\n",
       "  </thead>\n",
       "  <tbody>\n",
       "    <tr>\n",
       "      <th>0</th>\n",
       "      <td>540.0</td>\n",
       "      <td>0.0</td>\n",
       "      <td>0.0</td>\n",
       "      <td>162.0</td>\n",
       "      <td>2.5</td>\n",
       "      <td>1040.0</td>\n",
       "      <td>676.0</td>\n",
       "      <td>79.986111</td>\n",
       "    </tr>\n",
       "    <tr>\n",
       "      <th>1</th>\n",
       "      <td>540.0</td>\n",
       "      <td>0.0</td>\n",
       "      <td>0.0</td>\n",
       "      <td>162.0</td>\n",
       "      <td>2.5</td>\n",
       "      <td>1055.0</td>\n",
       "      <td>676.0</td>\n",
       "      <td>61.887366</td>\n",
       "    </tr>\n",
       "    <tr>\n",
       "      <th>7</th>\n",
       "      <td>380.0</td>\n",
       "      <td>95.0</td>\n",
       "      <td>0.0</td>\n",
       "      <td>228.0</td>\n",
       "      <td>0.0</td>\n",
       "      <td>932.0</td>\n",
       "      <td>594.0</td>\n",
       "      <td>36.447770</td>\n",
       "    </tr>\n",
       "    <tr>\n",
       "      <th>8</th>\n",
       "      <td>266.0</td>\n",
       "      <td>114.0</td>\n",
       "      <td>0.0</td>\n",
       "      <td>228.0</td>\n",
       "      <td>0.0</td>\n",
       "      <td>932.0</td>\n",
       "      <td>670.0</td>\n",
       "      <td>45.854291</td>\n",
       "    </tr>\n",
       "    <tr>\n",
       "      <th>9</th>\n",
       "      <td>475.0</td>\n",
       "      <td>0.0</td>\n",
       "      <td>0.0</td>\n",
       "      <td>228.0</td>\n",
       "      <td>0.0</td>\n",
       "      <td>932.0</td>\n",
       "      <td>594.0</td>\n",
       "      <td>39.289790</td>\n",
       "    </tr>\n",
       "  </tbody>\n",
       "</table>\n",
       "</div>"
      ],
      "text/plain": [
       "   Cement (component 1)(kg in a m^3 mixture)  \\\n",
       "0                                      540.0   \n",
       "1                                      540.0   \n",
       "7                                      380.0   \n",
       "8                                      266.0   \n",
       "9                                      475.0   \n",
       "\n",
       "   Blast Furnace Slag (component 2)(kg in a m^3 mixture)  \\\n",
       "0                                                0.0       \n",
       "1                                                0.0       \n",
       "7                                               95.0       \n",
       "8                                              114.0       \n",
       "9                                                0.0       \n",
       "\n",
       "   Fly Ash (component 3)(kg in a m^3 mixture)  \\\n",
       "0                                         0.0   \n",
       "1                                         0.0   \n",
       "7                                         0.0   \n",
       "8                                         0.0   \n",
       "9                                         0.0   \n",
       "\n",
       "   Water  (component 4)(kg in a m^3 mixture)  \\\n",
       "0                                      162.0   \n",
       "1                                      162.0   \n",
       "7                                      228.0   \n",
       "8                                      228.0   \n",
       "9                                      228.0   \n",
       "\n",
       "   Superplasticizer (component 5)(kg in a m^3 mixture)  \\\n",
       "0                                                2.5     \n",
       "1                                                2.5     \n",
       "7                                                0.0     \n",
       "8                                                0.0     \n",
       "9                                                0.0     \n",
       "\n",
       "   Coarse Aggregate  (component 6)(kg in a m^3 mixture)  \\\n",
       "0                                             1040.0      \n",
       "1                                             1055.0      \n",
       "7                                              932.0      \n",
       "8                                              932.0      \n",
       "9                                              932.0      \n",
       "\n",
       "   Fine Aggregate (component 7)(kg in a m^3 mixture)  \\\n",
       "0                                              676.0   \n",
       "1                                              676.0   \n",
       "7                                              594.0   \n",
       "8                                              670.0   \n",
       "9                                              594.0   \n",
       "\n",
       "   Concrete compressive strength(MPa, megapascals)   \n",
       "0                                         79.986111  \n",
       "1                                         61.887366  \n",
       "7                                         36.447770  \n",
       "8                                         45.854291  \n",
       "9                                         39.289790  "
      ]
     },
     "execution_count": 2,
     "metadata": {},
     "output_type": "execute_result"
    }
   ],
   "source": [
    "df = pd.read_csv('Concrete Compressive Strength.csv') #import data\n",
    "df = df.loc[df['Age (day)'] == 28] # Remove measurments not taken at 28 days\n",
    "df = df.drop(columns = ['Age (day)']) #Age no longer needed\n",
    "df.head()"
   ]
  },
  {
   "cell_type": "markdown",
   "id": "7c8f0327",
   "metadata": {},
   "source": [
    "### Separate Training and Testing Data"
   ]
  },
  {
   "cell_type": "code",
   "execution_count": 3,
   "id": "52fc8c66",
   "metadata": {},
   "outputs": [],
   "source": [
    "X = df.iloc[:,:-1] #input\n",
    "y = df.iloc[:,-1] #target\n",
    "\n",
    "#Scaling X\n",
    "StandardScaler().fit_transform(X)\n",
    "\n",
    "#Split\n",
    "Xtrain, Xtest, ytrain, ytest = train_test_split(X,y,test_size=0.3) #split into x and y test/train sets"
   ]
  },
  {
   "cell_type": "markdown",
   "id": "91d7dd46",
   "metadata": {},
   "source": [
    "# __Ridge Regression__ \n",
    "\n",
    "### (My Goal with this was to accomplish everything that had been done in the ridge regression lecture in python instead of R)\n",
    "\n",
    "\n",
    "## The Math\n",
    "\n",
    "### Ordinary Least Squares \n",
    "\n",
    "Minimize - $f(\\beta) = \\sum_{i=1}^n (y_i - \\beta_0 = \\sum_{j=1}^P \\beta_jx_{ij})^2 = ||y-X\\beta||^2$\n",
    "\n",
    "### Ridge Regresion \n",
    "\n",
    "Minimize - $\\sum_{i=1}^n (y_i - \\beta_0 = \\sum_{j=1}^P \\beta_jx_{ij})^2 + \\lambda \\sum_{j=1}^P \\beta_j^2= f(\\beta) + \\lambda g(\\beta)$\n",
    "\n",
    "$g(\\beta)$ is sum of squares of $\\beta_j$'s $j = 1...P$\n",
    "\n",
    "$\\lambda$ controls the values of our $B_j$'s, if $\\lambda$ is large our model will be simpler, and if it is smaller the model will be more complex"
   ]
  },
  {
   "cell_type": "markdown",
   "id": "c14d9173",
   "metadata": {},
   "source": [
    "## Linear Regreession (Zero Penalty Ridge Regression)"
   ]
  },
  {
   "cell_type": "code",
   "execution_count": 4,
   "id": "b1a1595c",
   "metadata": {},
   "outputs": [],
   "source": [
    "model1 = linear_model.LinearRegression()\n",
    "model1.fit(Xtrain, ytrain)\n",
    "yhattest1 = model1.predict(Xtest)\n",
    "rmse1 = np.sqrt(mean_squared_error(ytest, yhattest1))"
   ]
  },
  {
   "cell_type": "markdown",
   "id": "424249c8",
   "metadata": {},
   "source": [
    "## Full Penalty Untuned Lambda ($\\lambda = 1$)"
   ]
  },
  {
   "cell_type": "code",
   "execution_count": 5,
   "id": "0f8cc13f",
   "metadata": {},
   "outputs": [],
   "source": [
    "model2 = Ridge(alpha = 1)\n",
    "model2.fit(Xtrain, ytrain)\n",
    "yhattest2 = model2.predict(Xtest)\n",
    "\n",
    "rmse2 = np.sqrt(mean_squared_error(ytest, yhattest2))"
   ]
  },
  {
   "cell_type": "markdown",
   "id": "9920a8ca",
   "metadata": {},
   "source": [
    "## Finding Ideal Lambda"
   ]
  },
  {
   "cell_type": "markdown",
   "id": "ff544a33",
   "metadata": {},
   "source": [
    "### Building Initial Ridge Model"
   ]
  },
  {
   "cell_type": "code",
   "execution_count": 6,
   "id": "ad72501c",
   "metadata": {},
   "outputs": [],
   "source": [
    "model3 = Ridge()\n",
    "lambdavec = 10 ** np.linspace(10,-2, 1000) \n",
    "\n",
    "coefs = []\n",
    "for a in lambdavec:\n",
    "    model3.set_params(alpha = a)\n",
    "    model3.fit(Xtrain,ytrain)\n",
    "    coefs.append(model3.coef_)\n",
    "\n",
    "yhattest3 = model3.predict(Xtest)\n",
    "rmse3 = np.sqrt(mean_squared_error(ytest, yhattest3))"
   ]
  },
  {
   "cell_type": "markdown",
   "id": "41148295",
   "metadata": {},
   "source": [
    "### Coefficients"
   ]
  },
  {
   "cell_type": "code",
   "execution_count": 7,
   "id": "cdb958e8",
   "metadata": {
    "scrolled": true
   },
   "outputs": [
    {
     "data": {
      "image/png": "[encoded data removed]",
      "text/plain": [
       "<Figure size 432x288 with 1 Axes>"
      ]
     },
     "metadata": {
      "needs_background": "light"
     },
     "output_type": "display_data"
    }
   ],
   "source": [
    "ax = plt.gca()\n",
    "ax.plot((1 / lambdavec), coefs)\n",
    "ax.set_xscale(\"log\")\n",
    "plt.xlabel(\"1 / Lambda\")\n",
    "plt.ylabel(\"$B_j$'s, $j \\geq 1$\")\n",
    "plt.title(\"Ridge Regression Coefficients for Scaled Concrete Data\")\n",
    "plt.axis()\n",
    "plt.show()"
   ]
  },
  {
   "cell_type": "markdown",
   "id": "c04e59af",
   "metadata": {},
   "source": [
    "### Tuning Lambda"
   ]
  },
  {
   "cell_type": "code",
   "execution_count": 8,
   "id": "225f7cd0",
   "metadata": {},
   "outputs": [],
   "source": [
    "#10 fold Cross Validation allows us to sample alphas and find best value for Parameter\n",
    "cv = RidgeCV(alphas = lambdavec, scoring = \"neg_mean_squared_error\", cv = 10, normalize = False)\n",
    "cv.fit(Xtrain, ytrain)\n",
    "model3tuned = Ridge(alpha = cv.alpha_)\n",
    "model3tuned.fit(Xtrain,ytrain)  \n",
    "yhattest3tuned = model3tuned.predict(Xtest)\n",
    "rmse3tuned = np.sqrt(mean_squared_error(ytest, yhattest3tuned))"
   ]
  },
  {
   "cell_type": "markdown",
   "id": "ac1f8696",
   "metadata": {},
   "source": [
    "## Analysis"
   ]
  },
  {
   "cell_type": "markdown",
   "id": "b2f8c092",
   "metadata": {},
   "source": [
    "### Train RMSE Values For Each Model"
   ]
  },
  {
   "cell_type": "code",
   "execution_count": 13,
   "id": "89e31fea",
   "metadata": {},
   "outputs": [
    {
     "data": {
      "text/html": [
       "<div>\n",
       "<style scoped>\n",
       "    .dataframe tbody tr th:only-of-type {\n",
       "        vertical-align: middle;\n",
       "    }\n",
       "\n",
       "    .dataframe tbody tr th {\n",
       "        vertical-align: top;\n",
       "    }\n",
       "\n",
       "    .dataframe thead tr th {\n",
       "        text-align: left;\n",
       "    }\n",
       "</style>\n",
       "<table border=\"1\" class=\"dataframe\">\n",
       "  <thead>\n",
       "    <tr>\n",
       "      <th></th>\n",
       "      <th>Linear Regression</th>\n",
       "      <th>Full Penalty Ridge</th>\n",
       "      <th>Initial Ridge</th>\n",
       "      <th>Tuned Ridge</th>\n",
       "    </tr>\n",
       "    <tr>\n",
       "      <th></th>\n",
       "      <th>6.973814</th>\n",
       "      <th>6.973814</th>\n",
       "      <th>6.973814</th>\n",
       "      <th>6.982877</th>\n",
       "    </tr>\n",
       "  </thead>\n",
       "  <tbody>\n",
       "  </tbody>\n",
       "</table>\n",
       "</div>"
      ],
      "text/plain": [
       "Empty DataFrame\n",
       "Columns: [(Linear Regression, 6.973813790782751), (Full Penalty Ridge, 6.973813790916658), (Initial Ridge, 6.973813790782764), (Tuned Ridge, 6.98287653590055)]\n",
       "Index: []"
      ]
     },
     "execution_count": 13,
     "metadata": {},
     "output_type": "execute_result"
    }
   ],
   "source": [
    "rmseTrain1 = np.sqrt(mean_squared_error(ytrain, model1.predict(Xtrain)))\n",
    "rmseTrain2 = np.sqrt(mean_squared_error(ytrain, model2.predict(Xtrain)))\n",
    "rmseTrain3 = np.sqrt(mean_squared_error(ytrain, model3.predict(Xtrain)))\n",
    "rmseTrain3tuned= np.sqrt(mean_squared_error(ytrain, model3tuned.predict(Xtrain)))\n",
    " \n",
    "labels = ['Linear Regression', 'Full Penalty Ridge', 'Initial Ridge','Tuned Ridge']\n",
    "rmseTrain = [rmseTrain1,rmseTrain2,rmseTrain3,rmseTrain3tuned] \n",
    "df2 = pd.DataFrame(columns=[labels,rmseTrain])\n",
    "df2"
   ]
  },
  {
   "cell_type": "markdown",
   "id": "cd5d3a08",
   "metadata": {},
   "source": [
    "### Test RMSE Values For Each Model"
   ]
  },
  {
   "cell_type": "code",
   "execution_count": 14,
   "id": "3f303db0",
   "metadata": {},
   "outputs": [
    {
     "data": {
      "text/html": [
       "<div>\n",
       "<style scoped>\n",
       "    .dataframe tbody tr th:only-of-type {\n",
       "        vertical-align: middle;\n",
       "    }\n",
       "\n",
       "    .dataframe tbody tr th {\n",
       "        vertical-align: top;\n",
       "    }\n",
       "\n",
       "    .dataframe thead tr th {\n",
       "        text-align: left;\n",
       "    }\n",
       "</style>\n",
       "<table border=\"1\" class=\"dataframe\">\n",
       "  <thead>\n",
       "    <tr>\n",
       "      <th></th>\n",
       "      <th>Linear Regression</th>\n",
       "      <th>Full Penalty Ridge</th>\n",
       "      <th>Initial Ridge</th>\n",
       "      <th>Tuned Ridge</th>\n",
       "    </tr>\n",
       "    <tr>\n",
       "      <th></th>\n",
       "      <th>7.306689</th>\n",
       "      <th>7.306678</th>\n",
       "      <th>7.306689</th>\n",
       "      <th>7.247287</th>\n",
       "    </tr>\n",
       "  </thead>\n",
       "  <tbody>\n",
       "  </tbody>\n",
       "</table>\n",
       "</div>"
      ],
      "text/plain": [
       "Empty DataFrame\n",
       "Columns: [(Linear Regression, 7.306688969604691), (Full Penalty Ridge, 7.306677564471633), (Initial Ridge, 7.30668885552869), (Tuned Ridge, 7.247286700120328)]\n",
       "Index: []"
      ]
     },
     "execution_count": 14,
     "metadata": {},
     "output_type": "execute_result"
    }
   ],
   "source": [
    "labels = ['Linear Regression', 'Full Penalty Ridge', 'Initial Ridge','Tuned Ridge']\n",
    "rmseTest = [rmse1,rmse2,rmse3,rmse3tuned]\n",
    "df3 = pd.DataFrame(columns=[labels,rmseTest])\n",
    "df3"
   ]
  },
  {
   "cell_type": "markdown",
   "id": "d5dda69d",
   "metadata": {},
   "source": [
    "### Mean Compressive Strength"
   ]
  },
  {
   "cell_type": "code",
   "execution_count": 15,
   "id": "19f1e473",
   "metadata": {},
   "outputs": [
    {
     "data": {
      "text/plain": [
       "36.74848028408471"
      ]
     },
     "execution_count": 15,
     "metadata": {},
     "output_type": "execute_result"
    }
   ],
   "source": [
    "avg = np.mean(df['Concrete compressive strength(MPa, megapascals) '])\n",
    "avg"
   ]
  },
  {
   "cell_type": "markdown",
   "id": "d5269878",
   "metadata": {},
   "source": [
    "### Root Mean Square Error Percentage of Mean"
   ]
  },
  {
   "cell_type": "code",
   "execution_count": 12,
   "id": "5df45cc6",
   "metadata": {},
   "outputs": [
    {
     "data": {
      "text/html": [
       "<div>\n",
       "<style scoped>\n",
       "    .dataframe tbody tr th:only-of-type {\n",
       "        vertical-align: middle;\n",
       "    }\n",
       "\n",
       "    .dataframe tbody tr th {\n",
       "        vertical-align: top;\n",
       "    }\n",
       "\n",
       "    .dataframe thead tr th {\n",
       "        text-align: left;\n",
       "    }\n",
       "</style>\n",
       "<table border=\"1\" class=\"dataframe\">\n",
       "  <thead>\n",
       "    <tr>\n",
       "      <th></th>\n",
       "      <th>Linear Regression</th>\n",
       "      <th>Full Penalty Ridge</th>\n",
       "      <th>Initial Ridge</th>\n",
       "      <th>Tuned Ridge</th>\n",
       "    </tr>\n",
       "    <tr>\n",
       "      <th></th>\n",
       "      <th>0.198830</th>\n",
       "      <th>0.198829</th>\n",
       "      <th>0.198830</th>\n",
       "      <th>0.197213</th>\n",
       "    </tr>\n",
       "  </thead>\n",
       "  <tbody>\n",
       "  </tbody>\n",
       "</table>\n",
       "</div>"
      ],
      "text/plain": [
       "Empty DataFrame\n",
       "Columns: [(Linear Regression, 0.1988296907278945), (Full Penalty Ridge, 0.19882938037130368), (Initial Ridge, 0.19882968762365727), (Tuned Ridge, 0.19721323559763734)]\n",
       "Index: []"
      ]
     },
     "execution_count": 12,
     "metadata": {},
     "output_type": "execute_result"
    }
   ],
   "source": [
    "df4 = pd.DataFrame(columns = [labels, (rmseTest / avg)]) * 100\n",
    "df4"
   ]
  },
  {
   "cell_type": "markdown",
   "id": "2958ce0e",
   "metadata": {},
   "source": [
    "### Conclusion"
   ]
  },
  {
   "cell_type": "markdown",
   "id": "82c19766",
   "metadata": {},
   "source": [
    "As can be seen with the test RMSE values of the different models, there is not significant improvement between the different models when predicting the compressive strengh of a mixture. Depending on the trial the Tuned Ridge Regression tends to outperform the other models marginally, but not always, and not by significant measure. All of the test RMSE's hover around 7.2-7.3 MPa, and the train RMSE's are at around 7.0 MPa. One thing I did notice was often even when the Train RMSE was higher for the Tuned Ridge Regression Model than the other three, the Test RMSE was still often lower than the others. This could point towards the model marginally outperforming the others. "
   ]
  },
  {
   "cell_type": "code",
   "execution_count": null,
   "id": "8b672e36",
   "metadata": {},
   "outputs": [],
   "source": []
  }
 ],
 "metadata": {
  "kernelspec": {
   "display_name": "Python 3",
   "language": "python",
   "name": "python3"
  },
  "language_info": {
   "codemirror_mode": {
    "name": "ipython",
    "version": 3
   },
   "file_extension": ".py",
   "mimetype": "text/x-python",
   "name": "python",
   "nbconvert_exporter": "python",
   "pygments_lexer": "ipython3",
   "version": "3.8.10"
  }
 },
 "nbformat": 4,
 "nbformat_minor": 5
}
